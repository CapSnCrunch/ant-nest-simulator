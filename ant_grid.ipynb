{
 "cells": [
  {
   "cell_type": "code",
   "execution_count": 1,
   "id": "oriented-delhi",
   "metadata": {},
   "outputs": [
    {
     "name": "stdout",
     "output_type": "stream",
     "text": [
      "pygame 2.0.0 (SDL 2.0.12, python 3.8.6)\n",
      "Hello from the pygame community. https://www.pygame.org/contribute.html\n"
     ]
    }
   ],
   "source": [
    "# Uncomment these if the packages aren't recognized\n",
    "#!pip install pygame\n",
    "#!pip install numpy\n",
    "#!pip install matplotlib\n",
    "import pygame\n",
    "import numpy as np\n",
    "import matplotlib.pyplot as plt"
   ]
  },
  {
   "cell_type": "code",
   "execution_count": 10,
   "id": "white-booth",
   "metadata": {},
   "outputs": [],
   "source": [
    "K1, K2 = 50, 50\n",
    "beta = 0.5\n",
    "N = 150\n",
    "\n",
    "time_steps = 500\n",
    "scale = 10"
   ]
  },
  {
   "cell_type": "code",
   "execution_count": 3,
   "id": "damaged-batman",
   "metadata": {},
   "outputs": [],
   "source": [
    "class Ant:\n",
    "    def __init__(self, location, task, walking_style, information):\n",
    "        self.l = location\n",
    "        self.p = task\n",
    "        self.w = walking_style\n",
    "        self.f = information\n",
    "\n",
    "    def draw(self):\n",
    "        color = (255*self.f, 0, 255*(1-self.f))\n",
    "        i, j = self.l\n",
    "        pygame.draw.rect(win, color, (i*scale, j*scale, scale, scale))"
   ]
  },
  {
   "cell_type": "code",
   "execution_count": 4,
   "id": "strong-ethics",
   "metadata": {},
   "outputs": [],
   "source": [
    "class SFZ:\n",
    "    '''\n",
    "    Spatial Fidelity Zone (SFZ) on a grid of size K1 x K2.\n",
    "    points: a set of all lattice points which are in the SFZ.\n",
    "    '''\n",
    "    def __init__(self, points, color = (100, 0, 100)):\n",
    "        self.points = points\n",
    "        self.color = color\n",
    "    \n",
    "    def dist(self, i, j):\n",
    "        '''Returns the minimum L1 distance from (i,j) to the SFZ'''\n",
    "        x = np.array([p[0] for p in self.points])\n",
    "        y = np.array([p[1] for p in self.points])\n",
    "        return np.amin(np.absolute(x-i) + np.absolute(y-j))\n",
    "\n",
    "    def draw(self):\n",
    "        for p in self.points:\n",
    "            pygame.draw.rect(win, self.color, (p[0]*scale, p[1]*scale, scale + 1, scale + 1), 1)"
   ]
  },
  {
   "cell_type": "code",
   "execution_count": 5,
   "id": "racial-terrace",
   "metadata": {},
   "outputs": [],
   "source": [
    "class Colony:\n",
    "    '''\n",
    "    K1, K2 : dimensions of the grid\n",
    "    N : number of ants within the colony\n",
    "    P: number of distinct tasks within in the colony\n",
    "    '''\n",
    "    def __init__(self, K1, K2, N, sfzs = []):\n",
    "        self.grid = np.zeros((K1, K2), dtype = int)\n",
    "        self.ants = []\n",
    "        self.sfzs = sfzs\n",
    "        self.P = len(sfzs)\n",
    "        while N > 0:\n",
    "            i = np.random.randint(K1)\n",
    "            j = np.random.randint(K2)\n",
    "            if self.grid[i,j] == 0:\n",
    "                p = np.random.randint(self.P)\n",
    "                w = np.random.choice(['R','D'])\n",
    "                f = (N == 1)\n",
    "                ant = Ant((i,j), p, w, f)\n",
    "                self.ants.append(ant)\n",
    "                self.grid[i,j] = len(self.ants)\n",
    "                N -= 1\n",
    "        \n",
    "        self.contacts = [0]\n",
    "    \n",
    "    def update(self):\n",
    "        contacts = 0\n",
    "        remaining_ants = list(range(len(self.ants)))\n",
    "        while remaining_ants != []:\n",
    "            n = remaining_ants.pop(np.random.randint(len(remaining_ants)))\n",
    "            A = self.ants[n]\n",
    "            i, j = A.l\n",
    "            N = [(i+a, j+b) for a, b in [(1, 0), (-1, 0), (0, 1), (0, -1)] if min(i+a,j+b) > -1 and max(i+a,j+b) < min(K1, K2)]\n",
    "            N = [self.ants[self.grid[a,b]-1] for a, b in N if self.grid[a,b] != 0]\n",
    "            u1 = np.random.uniform(0, 1)\n",
    "            if u1 > len(N) / 4:\n",
    "                open_moves = [(i+a,j+b) for a, b in [(1, 0), (-1, 0), (0, 1), (0, -1)] if min(i+a,j+b) > -1 and max(i+a,j+b) < min(K1, K2)]\n",
    "                open_moves = [(a,b) for a, b in open_moves if self.grid[a,b] == 0]\n",
    "                if A.w == 'R' and len(open_moves) > 0:\n",
    "                    new_i, new_j = open_moves[np.random.choice(len(open_moves))]\n",
    "                    A.l = (new_i, new_j)\n",
    "                    self.grid[i, j], self.grid[new_i, new_j] = 0, n+1\n",
    "                elif A.w == 'D' and len(open_moves) > 0:\n",
    "                    sfz = self.sfzs[A.p]\n",
    "                    min_dist = min([sfz.dist(a, b) for a, b in open_moves])\n",
    "                    open_moves = [(a,b) for a, b in open_moves if sfz.dist(a, b) == min_dist]\n",
    "                    new_i, new_j = open_moves[np.random.choice(len(open_moves))]\n",
    "                    A.l = (new_i, new_j)\n",
    "                    self.grid[i, j], self.grid[new_i, new_j] = 0, n+1\n",
    "            else:\n",
    "                B = N[np.random.choice(len(N))]\n",
    "                u2 = np.random.uniform(0, 1)\n",
    "                if u2 < beta and A.f != B.f:\n",
    "                    contacts += 1\n",
    "                    A.f, B.f = 1, 1\n",
    "                    A.l, B.l = B.l, A.l\n",
    "                    self.grid[A.l[0],A.l[1]], self.grid[B.l[0],B.l[1]] = self.grid[B.l[0],B.l[1]], self.grid[A.l[0],A.l[1]]\n",
    "        self.contacts.append(self.contacts[-1]+contacts)\n",
    "\n",
    "    def draw(self):\n",
    "        win.fill((255,255,255))\n",
    "        for i in range(K1):\n",
    "            for j in range(K2):\n",
    "                pygame.draw.line(win, (230,230,230), (i*scale, j*scale), (K1*scale, j*scale))\n",
    "                pygame.draw.line(win, (230,230,230), (i*scale, j*scale), (i*scale, K2*scale))\n",
    "        for n in range(len(self.ants)):\n",
    "            self.ants[n].draw()\n",
    "        for n in range(len(self.sfzs)):\n",
    "            self.sfzs[n].draw()\n",
    "        pygame.display.update()"
   ]
  },
  {
   "cell_type": "code",
   "execution_count": 13,
   "id": "lesser-interference",
   "metadata": {},
   "outputs": [
    {
     "data": {
      "image/png": "[encoded data removed]",
      "text/plain": [
       "<Figure size 432x288 with 1 Axes>"
      ]
     },
     "metadata": {
      "needs_background": "light"
     },
     "output_type": "display_data"
    }
   ],
   "source": [
    "if __name__ == '__main__':\n",
    "    run = True\n",
    "    #win = pygame.display.set_mode((K1 * scale, K2 * scale))\n",
    "    #pygame.display.set_caption('Ant Nest Simulator')\n",
    "\n",
    "    sfzs = []\n",
    "    sfzs.append(SFZ([(x,y) for x in range(15) for y in range(15)], (200, 0, 0)))\n",
    "    #sfzs.append(SFZ([(x,y) for x in range(K1-15, K1) for y in range(15)], (200, 200, 0)))\n",
    "    sfzs.append(SFZ([(x,y) for x in range(K1-15, K1) for y in range(K2-15, K2)], (0, 0, 200)))\n",
    "    #sfzs.append(SFZ([(x,y) for x in range(15) for y in range(K2-15, K2)], (0, 200, 0)))\n",
    "\n",
    "    colony = Colony(K1, K2, N, sfzs)\n",
    "    \n",
    "    t = 0\n",
    "    clock = pygame.time.Clock()\n",
    "    while run:\n",
    "        colony.update()\n",
    "\n",
    "        t += 1\n",
    "        if t == time_steps:\n",
    "            run = False\n",
    "\n",
    "    plt.plot(colony.contacts)\n",
    "    plt.title('Total Contacts over Time')\n",
    "    plt.xlabel('t')\n",
    "    plt.ylabel('C(t)')\n",
    "    plt.show()"
   ]
  }
 ],
 "metadata": {
  "kernelspec": {
   "display_name": "Python 3",
   "language": "python",
   "name": "python3"
  },
  "language_info": {
   "codemirror_mode": {
    "name": "ipython",
    "version": 3
   },
   "file_extension": ".py",
   "mimetype": "text/x-python",
   "name": "python",
   "nbconvert_exporter": "python",
   "pygments_lexer": "ipython3",
   "version": "3.8.6"
  }
 },
 "nbformat": 4,
 "nbformat_minor": 5
}
